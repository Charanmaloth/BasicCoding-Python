{
  "nbformat": 4,
  "nbformat_minor": 0,
  "metadata": {
    "colab": {
      "provenance": [],
      "authorship_tag": "ABX9TyMhrF5G2KymgvU6lhhrPXZq",
      "include_colab_link": true
    },
    "kernelspec": {
      "name": "python3",
      "display_name": "Python 3"
    },
    "language_info": {
      "name": "python"
    }
  },
  "cells": [
    {
      "cell_type": "markdown",
      "metadata": {
        "id": "view-in-github",
        "colab_type": "text"
      },
      "source": [
        "<a href=\"https://colab.research.google.com/github/Charanmaloth/BasicCoding-Python/blob/main/BasicCoding_Python.ipynb\" target=\"_parent\"><img src=\"https://colab.research.google.com/assets/colab-badge.svg\" alt=\"Open In Colab\"/></a>"
      ]
    },
    {
      "cell_type": "code",
      "source": [
        "!git clone 'https://github.com/Charanmaloth/BasicCoding-Python.git'"
      ],
      "metadata": {
        "colab": {
          "base_uri": "https://localhost:8080/"
        },
        "id": "8EYd3RHT9-ba",
        "outputId": "c8563629-5c32-4023-dc11-76e88eaf5a5f"
      },
      "execution_count": 39,
      "outputs": [
        {
          "output_type": "stream",
          "name": "stdout",
          "text": [
            "Cloning into 'BasicCoding-Python'...\n",
            "remote: Enumerating objects: 3, done.\u001b[K\n",
            "remote: Counting objects: 100% (3/3), done.\u001b[K\n",
            "remote: Total 3 (delta 0), reused 0 (delta 0), pack-reused 0\u001b[K\n",
            "Receiving objects: 100% (3/3), done.\n"
          ]
        }
      ]
    },
    {
      "cell_type": "code",
      "source": [
        "!pip install geopandas"
      ],
      "metadata": {
        "colab": {
          "base_uri": "https://localhost:8080/"
        },
        "id": "kF8imSaw-MF0",
        "outputId": "930f9c06-3de4-40d3-d03d-1a1410b6efab"
      },
      "execution_count": 40,
      "outputs": [
        {
          "output_type": "stream",
          "name": "stdout",
          "text": [
            "Requirement already satisfied: geopandas in /usr/local/lib/python3.10/dist-packages (0.13.2)\n",
            "Requirement already satisfied: fiona>=1.8.19 in /usr/local/lib/python3.10/dist-packages (from geopandas) (1.9.6)\n",
            "Requirement already satisfied: packaging in /usr/local/lib/python3.10/dist-packages (from geopandas) (24.1)\n",
            "Requirement already satisfied: pandas>=1.1.0 in /usr/local/lib/python3.10/dist-packages (from geopandas) (2.0.3)\n",
            "Requirement already satisfied: pyproj>=3.0.1 in /usr/local/lib/python3.10/dist-packages (from geopandas) (3.6.1)\n",
            "Requirement already satisfied: shapely>=1.7.1 in /usr/local/lib/python3.10/dist-packages (from geopandas) (2.0.4)\n",
            "Requirement already satisfied: attrs>=19.2.0 in /usr/local/lib/python3.10/dist-packages (from fiona>=1.8.19->geopandas) (23.2.0)\n",
            "Requirement already satisfied: certifi in /usr/local/lib/python3.10/dist-packages (from fiona>=1.8.19->geopandas) (2024.6.2)\n",
            "Requirement already satisfied: click~=8.0 in /usr/local/lib/python3.10/dist-packages (from fiona>=1.8.19->geopandas) (8.1.7)\n",
            "Requirement already satisfied: click-plugins>=1.0 in /usr/local/lib/python3.10/dist-packages (from fiona>=1.8.19->geopandas) (1.1.1)\n",
            "Requirement already satisfied: cligj>=0.5 in /usr/local/lib/python3.10/dist-packages (from fiona>=1.8.19->geopandas) (0.7.2)\n",
            "Requirement already satisfied: six in /usr/local/lib/python3.10/dist-packages (from fiona>=1.8.19->geopandas) (1.16.0)\n",
            "Requirement already satisfied: python-dateutil>=2.8.2 in /usr/local/lib/python3.10/dist-packages (from pandas>=1.1.0->geopandas) (2.8.2)\n",
            "Requirement already satisfied: pytz>=2020.1 in /usr/local/lib/python3.10/dist-packages (from pandas>=1.1.0->geopandas) (2023.4)\n",
            "Requirement already satisfied: tzdata>=2022.1 in /usr/local/lib/python3.10/dist-packages (from pandas>=1.1.0->geopandas) (2024.1)\n",
            "Requirement already satisfied: numpy>=1.21.0 in /usr/local/lib/python3.10/dist-packages (from pandas>=1.1.0->geopandas) (1.25.2)\n"
          ]
        }
      ]
    },
    {
      "cell_type": "code",
      "execution_count": 2,
      "metadata": {
        "colab": {
          "base_uri": "https://localhost:8080/"
        },
        "id": "_eHfdFqWvNzw",
        "outputId": "15903478-c229-4975-862e-ff71c0c8112e"
      },
      "outputs": [
        {
          "output_type": "stream",
          "name": "stdout",
          "text": [
            "6\n",
            "1\n",
            "2\n",
            "3\n",
            "4\n",
            "5\n",
            "6\n"
          ]
        }
      ],
      "source": [
        "#First N natural numbers\n",
        "n = int(input())\n",
        "i = 1\n",
        "while i <= n:\n",
        "  print(i)\n",
        "  i += 1"
      ]
    },
    {
      "cell_type": "code",
      "source": [
        "#Method - 2\n",
        "n = int(input())\n",
        "for i in range(1, n+1):\n",
        "  print(i, end=' ')"
      ],
      "metadata": {
        "colab": {
          "base_uri": "https://localhost:8080/"
        },
        "id": "9zr5R0TjvuM7",
        "outputId": "b1e93d02-a643-4a43-e1e2-09da62cc7b16"
      },
      "execution_count": 3,
      "outputs": [
        {
          "output_type": "stream",
          "name": "stdout",
          "text": [
            "6\n",
            "1 2 3 4 5 6 "
          ]
        }
      ]
    },
    {
      "cell_type": "code",
      "source": [
        "#Voting System\n",
        "n = int(input())\n",
        "if n > 18:\n",
        "  print('Vote')\n",
        "else:\n",
        "  print('No Vote')"
      ],
      "metadata": {
        "colab": {
          "base_uri": "https://localhost:8080/"
        },
        "id": "nmYE2aq_v7RC",
        "outputId": "2fa653d2-5732-48d7-c3d9-fb010cad0803"
      },
      "execution_count": 4,
      "outputs": [
        {
          "output_type": "stream",
          "name": "stdout",
          "text": [
            "23\n",
            "Vote\n"
          ]
        }
      ]
    },
    {
      "cell_type": "code",
      "source": [
        "#Method - 2\n",
        "n =int(input())\n",
        "r = 'Vote' if n >= 18 else 'No Vote'\n",
        "print(r)\n",
        "print('Vote') if n >= 18 else print ('No Vote')"
      ],
      "metadata": {
        "colab": {
          "base_uri": "https://localhost:8080/"
        },
        "id": "hakkeQaLwPWp",
        "outputId": "daf07e4e-0dfe-40a4-b1d6-a6606382ed12"
      },
      "execution_count": 6,
      "outputs": [
        {
          "output_type": "stream",
          "name": "stdout",
          "text": [
            "23\n",
            "Vote\n",
            "Vote\n"
          ]
        }
      ]
    },
    {
      "cell_type": "code",
      "source": [
        "#Positive / Negative\n",
        "n = int(input())\n",
        "if n == 0:\n",
        "  print('Zero')\n",
        "elif n > 0:\n",
        "  print('Positive')\n",
        "else:\n",
        "  print('Negative')"
      ],
      "metadata": {
        "colab": {
          "base_uri": "https://localhost:8080/"
        },
        "id": "FKZacGo4wcpA",
        "outputId": "869aee20-383c-40c7-9024-9f19c308f019"
      },
      "execution_count": 7,
      "outputs": [
        {
          "output_type": "stream",
          "name": "stdout",
          "text": [
            "-33\n",
            "Negative\n"
          ]
        }
      ]
    },
    {
      "cell_type": "code",
      "source": [
        "#Method - 2\n",
        "n = int(input())\n",
        "if n >= 0:\n",
        "  if n == 0:\n",
        "    print('Zero')\n",
        "  else:\n",
        "    print('Positive')\n",
        "else:\n",
        "  print('Negative')"
      ],
      "metadata": {
        "colab": {
          "base_uri": "https://localhost:8080/"
        },
        "id": "XGdDiOCdxCnU",
        "outputId": "438b1c73-8440-48a9-c9ed-9994b477860b"
      },
      "execution_count": 8,
      "outputs": [
        {
          "output_type": "stream",
          "name": "stdout",
          "text": [
            "34\n",
            "Positive\n"
          ]
        }
      ]
    },
    {
      "cell_type": "code",
      "source": [
        "#Method - 3\n",
        "n = int(input())\n",
        "if n == 0:\n",
        "  print('Zero')\n",
        "else:\n",
        "  print('Positive') if n >= 0 else print('Negative')"
      ],
      "metadata": {
        "colab": {
          "base_uri": "https://localhost:8080/"
        },
        "id": "TkvtuA44xUr8",
        "outputId": "0ae7393c-39b6-4dc1-cc55-7626fb29e201"
      },
      "execution_count": 9,
      "outputs": [
        {
          "output_type": "stream",
          "name": "stdout",
          "text": [
            "33\n",
            "Positive\n"
          ]
        }
      ]
    },
    {
      "cell_type": "code",
      "source": [
        "#Printing All Opeartions\n",
        "a = int(input())\n",
        "b = int(input())\n",
        "sum = a + b\n",
        "sub = a - b\n",
        "mul = a * b\n",
        "div = a / b\n",
        "floor_div = a // b\n",
        "mod = a % b\n",
        "power = pow(a,b)\n",
        "print(sum)\n",
        "print(sub)\n",
        "print(mul)\n",
        "print(div)\n",
        "print(floor_div)\n",
        "print(mod)\n",
        "print(power)"
      ],
      "metadata": {
        "colab": {
          "base_uri": "https://localhost:8080/"
        },
        "id": "3sRDuXanxoa_",
        "outputId": "c02f0e5b-6039-43f7-89ec-a1e833367eec"
      },
      "execution_count": 10,
      "outputs": [
        {
          "output_type": "stream",
          "name": "stdout",
          "text": [
            "5\n",
            "4\n",
            "9\n",
            "1\n",
            "20\n",
            "1.25\n",
            "1\n",
            "1\n",
            "625\n"
          ]
        }
      ]
    },
    {
      "cell_type": "code",
      "source": [
        "#Even / Odd number\n",
        "n = int(input())\n",
        "if n % 2 == 0:\n",
        "  print('Even')\n",
        "else:\n",
        "  print('Odd')\n",
        "print('Even') if n % 2 == 0 else print('Odd')"
      ],
      "metadata": {
        "colab": {
          "base_uri": "https://localhost:8080/"
        },
        "id": "rA98A1ezyTUy",
        "outputId": "022857be-5a19-4fe8-ab4f-c7c6e123ba2e"
      },
      "execution_count": 12,
      "outputs": [
        {
          "output_type": "stream",
          "name": "stdout",
          "text": [
            "23\n",
            "Odd\n",
            "Odd\n"
          ]
        }
      ]
    },
    {
      "cell_type": "code",
      "source": [
        "#Grading Scheme\n",
        "m = int(input())\n",
        "if m < 0 or m > 100:\n",
        "  print('Invalid')\n",
        "elif m < 50:\n",
        "  print('Grade F')\n",
        "elif m >= 50 and m < 60:\n",
        "  print('Grade D')\n",
        "elif m > 60 and m <70:\n",
        "  print('Grade C')\n",
        "elif m >= 70 and m < 80:\n",
        "  print('Grade B')\n",
        "elif m >= 80 and m < 90:\n",
        "  print('Grade A')\n",
        "else:\n",
        "  print('Grade A+')"
      ],
      "metadata": {
        "colab": {
          "base_uri": "https://localhost:8080/"
        },
        "id": "_D70Mnq8yfzL",
        "outputId": "52901dcb-6dfc-4636-b28b-7c1080e3cd70"
      },
      "execution_count": 14,
      "outputs": [
        {
          "output_type": "stream",
          "name": "stdout",
          "text": [
            "89\n",
            "Grade A\n"
          ]
        }
      ]
    },
    {
      "cell_type": "code",
      "source": [
        "#Rounding of number\n",
        "import math\n",
        "n  = float(input())\n",
        "print(math.ceil(n))\n",
        "print(math.floor(n))\n",
        "print(round(n))\n"
      ],
      "metadata": {
        "colab": {
          "base_uri": "https://localhost:8080/"
        },
        "id": "kKjIsM6PzidL",
        "outputId": "0cb53bde-7474-4e83-caa4-d9e4bbc08473"
      },
      "execution_count": 15,
      "outputs": [
        {
          "output_type": "stream",
          "name": "stdout",
          "text": [
            "23.44\n",
            "24\n",
            "23\n",
            "23\n"
          ]
        }
      ]
    },
    {
      "cell_type": "code",
      "source": [
        "#Square root and Cube root and Power\n",
        "import math\n",
        "a =int(input())\n",
        "b = int(input())\n",
        "c = int(input())\n",
        "sqroot = math.sqrt(a)\n",
        "sq = b ** 2\n",
        "cb = c ** (1/3)\n",
        "print(sqroot)\n",
        "print(sq)\n",
        "print(cb)"
      ],
      "metadata": {
        "colab": {
          "base_uri": "https://localhost:8080/"
        },
        "id": "SawQRoqQ0Cng",
        "outputId": "c9c0f992-06af-41f7-9183-373a4eef9b4b"
      },
      "execution_count": 18,
      "outputs": [
        {
          "output_type": "stream",
          "name": "stdout",
          "text": [
            "5\n",
            "4\n",
            "3\n",
            "2.23606797749979\n",
            "16\n",
            "1.4422495703074083\n"
          ]
        }
      ]
    },
    {
      "cell_type": "code",
      "source": [
        "#Table of a number\n",
        "n = int(input())\n",
        "for i in range(1, 11):\n",
        "  print(n,'x', i,'=',n*i)"
      ],
      "metadata": {
        "colab": {
          "base_uri": "https://localhost:8080/"
        },
        "id": "f2qwxhPO0umK",
        "outputId": "0ae88789-15b2-47d4-9426-09e57b8c4f96"
      },
      "execution_count": 19,
      "outputs": [
        {
          "output_type": "stream",
          "name": "stdout",
          "text": [
            "2\n",
            "2 x 1 = 2\n",
            "2 x 2 = 4\n",
            "2 x 3 = 6\n",
            "2 x 4 = 8\n",
            "2 x 5 = 10\n",
            "2 x 6 = 12\n",
            "2 x 7 = 14\n",
            "2 x 8 = 16\n",
            "2 x 9 = 18\n",
            "2 x 10 = 20\n"
          ]
        }
      ]
    },
    {
      "cell_type": "code",
      "source": [
        "#Greatest Between two numbers\n",
        "a = int(input())\n",
        "b = int(input())\n",
        "if a == b:\n",
        "  print('Both are equal')\n",
        "elif a > b:\n",
        "  print(str(a)+' is Greater')\n",
        "else:\n",
        "  print(str(b)+' is Greater')"
      ],
      "metadata": {
        "colab": {
          "base_uri": "https://localhost:8080/"
        },
        "id": "vqef5XUR1-uv",
        "outputId": "1ff2e9bb-7c34-4841-9dae-773edb5c782d"
      },
      "execution_count": 20,
      "outputs": [
        {
          "output_type": "stream",
          "name": "stdout",
          "text": [
            "4\n",
            "9\n",
            "9 is Greater\n"
          ]
        }
      ]
    },
    {
      "cell_type": "code",
      "source": [
        "#Using ternary operator\n",
        "a = int(input())\n",
        "b = int(input())\n",
        "if a == b:\n",
        "  print('Both are equal')\n",
        "else:\n",
        "  print(str(a)) if a > b else print(str(b))"
      ],
      "metadata": {
        "colab": {
          "base_uri": "https://localhost:8080/"
        },
        "id": "pNjsDvzd2bfu",
        "outputId": "f6ee1cc3-307a-461f-b26b-8d66e0b92486"
      },
      "execution_count": 21,
      "outputs": [
        {
          "output_type": "stream",
          "name": "stdout",
          "text": [
            "4\n",
            "7\n",
            "7\n"
          ]
        }
      ]
    },
    {
      "cell_type": "code",
      "source": [
        "#Using inbuilt method\n",
        "a = int(input())\n",
        "b = int(input())\n",
        "if a == b:\n",
        "  print('Both are equal')\n",
        "else:\n",
        "  res = max(a, b)\n",
        "  print(str(res)+ ' Greater')"
      ],
      "metadata": {
        "colab": {
          "base_uri": "https://localhost:8080/"
        },
        "id": "8Znkf_mq2uNs",
        "outputId": "7761ab76-39c0-412b-c9f0-4c4469eb433e"
      },
      "execution_count": 22,
      "outputs": [
        {
          "output_type": "stream",
          "name": "stdout",
          "text": [
            "5\n",
            "9\n",
            "9 Greater\n"
          ]
        }
      ]
    },
    {
      "cell_type": "code",
      "source": [
        "#Greatest of Three Numbers\n",
        "a = int(input())\n",
        "b = int(input())\n",
        "c = int(input())\n",
        "if a == b == c:\n",
        "  print('All are equal')\n",
        "else:\n",
        "  print(max(a,b,c))"
      ],
      "metadata": {
        "colab": {
          "base_uri": "https://localhost:8080/"
        },
        "id": "uyV2SQTU3BpQ",
        "outputId": "9b0174f8-9f68-4150-e6e7-3815f289cfac"
      },
      "execution_count": 23,
      "outputs": [
        {
          "output_type": "stream",
          "name": "stdout",
          "text": [
            "3\n",
            "7\n",
            "9\n",
            "9\n"
          ]
        }
      ]
    },
    {
      "cell_type": "code",
      "source": [
        "#Method - 2\n",
        "a = int(input())\n",
        "b = int(input())\n",
        "c = int(input())\n",
        "if a == b == c:\n",
        "  print('All are equal')\n",
        "elif a > b and a > c:\n",
        "  print(str(a))\n",
        "elif b > a and b > c:\n",
        "  print(str(b))\n",
        "else:\n",
        "  print(str(c))"
      ],
      "metadata": {
        "colab": {
          "base_uri": "https://localhost:8080/"
        },
        "id": "6q-P3DYE3V1y",
        "outputId": "361a0760-c781-4340-917f-25158ad40d41"
      },
      "execution_count": 24,
      "outputs": [
        {
          "output_type": "stream",
          "name": "stdout",
          "text": [
            "3\n",
            "7\n",
            "2\n",
            "7\n"
          ]
        }
      ]
    },
    {
      "cell_type": "code",
      "source": [
        "#Using Ternary Operator\n",
        "a = int(input())\n",
        "b = int(input())\n",
        "c = int(input())\n",
        "if a == b == c:\n",
        "  print('All are equal')\n",
        "else:\n",
        "  temp = a if a > b else b\n",
        "  res =  temp if temp > c else c"
      ],
      "metadata": {
        "colab": {
          "base_uri": "https://localhost:8080/"
        },
        "id": "Weu4DPmO3uLs",
        "outputId": "7265bfe0-2c5c-43e5-e67c-d757e9cf5959"
      },
      "execution_count": 25,
      "outputs": [
        {
          "name": "stdout",
          "output_type": "stream",
          "text": [
            "3\n",
            "5\n",
            "1\n"
          ]
        }
      ]
    },
    {
      "cell_type": "code",
      "source": [
        "#N power of a number\n",
        "a = int(input())\n",
        "b = int(input())\n",
        "res = 1\n",
        "i = 1\n",
        "while i <= b:\n",
        "  res *= a\n",
        "  i += 1\n",
        "print(res)\n",
        "print(b)\n"
      ],
      "metadata": {
        "colab": {
          "base_uri": "https://localhost:8080/"
        },
        "id": "8_Q-KiYC4Nh5",
        "outputId": "dc101faa-bc93-4f43-f075-a1fff667db85"
      },
      "execution_count": 27,
      "outputs": [
        {
          "output_type": "stream",
          "name": "stdout",
          "text": [
            "3\n",
            "4\n",
            "81\n",
            "4\n"
          ]
        }
      ]
    },
    {
      "cell_type": "code",
      "source": [
        "#1D Array Implementation\n",
        "n = int(input())\n",
        "arr = []\n",
        "for i in range(n):\n",
        "  arr.append(int(input()))\n",
        "print('The elements are : ')\n",
        "for i in range(n):\n",
        "  print(arr[i], end = ' ')"
      ],
      "metadata": {
        "colab": {
          "base_uri": "https://localhost:8080/"
        },
        "id": "hVZqs9D17ObT",
        "outputId": "61c1501c-3ed3-49c6-e2fe-86cb5bca6719"
      },
      "execution_count": 37,
      "outputs": [
        {
          "output_type": "stream",
          "name": "stdout",
          "text": [
            "4\n",
            "5\n",
            "4\n",
            "3\n",
            "1\n",
            "The elements are : \n",
            "5 4 3 1 "
          ]
        }
      ]
    },
    {
      "cell_type": "code",
      "source": [
        "#Impliment 2D array\n",
        "row = int(input())\n",
        "col = int(input())\n",
        "matrix = []\n",
        "for i in range(row):\n",
        "  a = []\n",
        "  for j in range(col):\n",
        "    a.append(int(input()))\n",
        "  matrix.append(a)\n",
        "for i in range(row):\n",
        "  for j in range(col):\n",
        "    print(matrix[i][j], end =' ')\n",
        "  print()\n"
      ],
      "metadata": {
        "colab": {
          "base_uri": "https://localhost:8080/"
        },
        "id": "SoZGFA0I9GyA",
        "outputId": "8ea187b9-0f85-48c9-dce8-eb6b6401d3eb"
      },
      "execution_count": 38,
      "outputs": [
        {
          "output_type": "stream",
          "name": "stdout",
          "text": [
            "3\n",
            "3\n",
            "4\n",
            "5\n",
            "3\n",
            "5\n",
            "2\n",
            "7\n",
            "8\n",
            "9\n",
            "1\n",
            "4 5 3 \n",
            "5 2 7 \n",
            "8 9 1 \n"
          ]
        }
      ]
    }
  ]
}